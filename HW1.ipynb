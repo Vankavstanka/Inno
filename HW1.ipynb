{
 "cells": [
  {
   "cell_type": "code",
   "execution_count": 2,
   "id": "b3b2a45e-01f9-4aad-b7d6-08ddfe401375",
   "metadata": {},
   "outputs": [],
   "source": [
    "def arr_avg(num):\n",
    "    return sum(num) / len(num)"
   ]
  },
  {
   "cell_type": "code",
   "execution_count": null,
   "id": "27ded3da-587f-41c5-b3c1-61386d7e338d",
   "metadata": {},
   "outputs": [],
   "source": []
  }
 ],
 "metadata": {
  "kernelspec": {
   "display_name": "Python [conda env:base] *",
   "language": "python",
   "name": "conda-base-py"
  },
  "language_info": {
   "codemirror_mode": {
    "name": "ipython",
    "version": 3
   },
   "file_extension": ".py",
   "mimetype": "text/x-python",
   "name": "python",
   "nbconvert_exporter": "python",
   "pygments_lexer": "ipython3",
   "version": "3.12.7"
  }
 },
 "nbformat": 4,
 "nbformat_minor": 5
}
